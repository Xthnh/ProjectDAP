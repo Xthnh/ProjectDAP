{
 "cells": [
  {
   "cell_type": "markdown",
   "metadata": {},
   "source": [
    "## Data Preparation\n",
    "##### Using the Support Vector Machine (SVM) algorithm to solve the problem of basic waste sorting at home\n",
    "In this classification article, I use data on 4 different types of waste: 'Hazardous waste', 'Organic waste', 'Other waste', and 'Recyclable waste'. You can get the data and code from my personal github."
   ]
  },
  {
   "cell_type": "code",
   "execution_count": 24,
   "metadata": {},
   "outputs": [],
   "source": [
    "import os\n",
    "import matplotlib.pyplot as plt\n",
    "import numpy as np\n",
    "import pandas as pd\n",
    "import shutil\n",
    "from sklearn.model_selection import train_test_split\n",
    "import os # quản lí hệ điều hành và tệp tin\n",
    "from PIL import Image  # Thư viện xử lý ảnh ở nhiều định dạng khác nhau\n",
    "import numpy as np  # Thư viện xử lý mảng nhiều chiều\n",
    "from skimage.feature import local_binary_pattern, hog \n",
    "from skimage import exposure  # Xử lý ảnh ở\n",
    "import cv2 as cv\n",
    "import random as random"
   ]
  },
  {
   "cell_type": "code",
   "execution_count": 2,
   "metadata": {},
   "outputs": [
    {
     "name": "stdout",
     "output_type": "stream",
     "text": [
      "['Hazardous waste', 'Organic waste', 'Other waste', 'Recyclable waste']\n",
      "[1011, 1031, 4424, 16874]\n"
     ]
    }
   ],
   "source": [
    "dataDir = 'DATA_clean'\n",
    "def statistic(dataDir):\n",
    "    label = []\n",
    "    num_images = []\n",
    "    for lab in os.listdir(dataDir):\n",
    "        label.append(lab)\n",
    "        files=os.listdir(os.path.join(dataDir, lab))\n",
    "        c=len(files)\n",
    "        num_images.append(c)\n",
    "    return label, num_images\n",
    "labels, num_images = statistic(dataDir)\n",
    "print(labels)\n",
    "print(num_images)\n"
   ]
  },
  {
   "cell_type": "markdown",
   "metadata": {},
   "source": [
    "## Visualization data\n",
    "Tập dữ liệu mà tôi sử dụng gồm 4 class, số lượng samples của mỗi class là khác nhau."
   ]
  },
  {
   "cell_type": "code",
   "execution_count": 3,
   "metadata": {},
   "outputs": [
    {
     "data": {
      "image/png": "[encoded data removed]",
      "text/plain": [
       "<Figure size 640x480 with 1 Axes>"
      ]
     },
     "metadata": {},
     "output_type": "display_data"
    }
   ],
   "source": [
    "y_pos = np.arange(len(labels))\n",
    "plt.barh(y_pos, num_images, align='center')\n",
    "plt.yticks(y_pos, labels)\n",
    "plt.show()"
   ]
  },
  {
   "cell_type": "markdown",
   "metadata": {},
   "source": [
    "## Split into train and test sets\n",
    "\n",
    "After the data statistics process, I will divide the data into 2 sets of Train and Test according to the familiar ratio of 80% for the train and 20% for the test. To divide the data into 2 sets, I define the following function:"
   ]
  },
  {
   "cell_type": "code",
   "execution_count": 30,
   "metadata": {},
   "outputs": [
    {
     "data": {
      "text/html": [
       "<div>\n",
       "<style scoped>\n",
       "    .dataframe tbody tr th:only-of-type {\n",
       "        vertical-align: middle;\n",
       "    }\n",
       "\n",
       "    .dataframe tbody tr th {\n",
       "        vertical-align: top;\n",
       "    }\n",
       "\n",
       "    .dataframe thead th {\n",
       "        text-align: right;\n",
       "    }\n",
       "</style>\n",
       "<table border=\"1\" class=\"dataframe\">\n",
       "  <thead>\n",
       "    <tr style=\"text-align: right;\">\n",
       "      <th></th>\n",
       "      <th>image</th>\n",
       "      <th>category</th>\n",
       "    </tr>\n",
       "  </thead>\n",
       "  <tbody>\n",
       "    <tr>\n",
       "      <th>0</th>\n",
       "      <td>clothes_5117.jpg</td>\n",
       "      <td>Recyclable waste</td>\n",
       "    </tr>\n",
       "    <tr>\n",
       "      <th>1</th>\n",
       "      <td>00002788.jpg</td>\n",
       "      <td>Other waste</td>\n",
       "    </tr>\n",
       "    <tr>\n",
       "      <th>2</th>\n",
       "      <td>plastic_919.jpg</td>\n",
       "      <td>Recyclable waste</td>\n",
       "    </tr>\n",
       "    <tr>\n",
       "      <th>3</th>\n",
       "      <td>00002360.jpg</td>\n",
       "      <td>Other waste</td>\n",
       "    </tr>\n",
       "    <tr>\n",
       "      <th>4</th>\n",
       "      <td>paper_2261.jpg</td>\n",
       "      <td>Recyclable waste</td>\n",
       "    </tr>\n",
       "  </tbody>\n",
       "</table>\n",
       "</div>"
      ],
      "text/plain": [
       "              image          category\n",
       "0  clothes_5117.jpg  Recyclable waste\n",
       "1      00002788.jpg       Other waste\n",
       "2   plastic_919.jpg  Recyclable waste\n",
       "3      00002360.jpg       Other waste\n",
       "4    paper_2261.jpg  Recyclable waste"
      ]
     },
     "execution_count": 30,
     "metadata": {},
     "output_type": "execute_result"
    }
   ],
   "source": [
    "# Tạo thư mục train và test\n",
    "categ = ['Hazardous waste', 'Organic waste', 'Other waste', 'Recyclable waste']\n",
    "path = 'DATA_clean'\n",
    "df = []\n",
    "\n",
    "for i in categ:\n",
    "    path1 = os.path.join(path,i)\n",
    "    for img in os.listdir(path1):\n",
    "        df.append((img, i))\n",
    "random.shuffle(df) # xáo trộn dữ liệu\n",
    "df = pd.DataFrame(df, columns=['image', 'category'])\n",
    "df.head()\n"
   ]
  },
  {
   "cell_type": "code",
   "execution_count": 31,
   "metadata": {},
   "outputs": [],
   "source": [
    "X = df['image']\n",
    "y = df['category']\n",
    "\n",
    "X_train, X_test, y_train, y_test = train_test_split(X, y, test_size=0.2, random_state=42)\n",
    "\n"
   ]
  },
  {
   "cell_type": "code",
   "execution_count": null,
   "metadata": {},
   "outputs": [],
   "source": []
  }
 ],
 "metadata": {
  "kernelspec": {
   "display_name": "Python 3",
   "language": "python",
   "name": "python3"
  },
  "language_info": {
   "codemirror_mode": {
    "name": "ipython",
    "version": 3
   },
   "file_extension": ".py",
   "mimetype": "text/x-python",
   "name": "python",
   "nbconvert_exporter": "python",
   "pygments_lexer": "ipython3",
   "version": "3.13.0"
  }
 },
 "nbformat": 4,
 "nbformat_minor": 2
}
