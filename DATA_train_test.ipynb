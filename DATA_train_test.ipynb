{
 "cells": [
  {
   "cell_type": "markdown",
   "metadata": {},
   "source": [
    "## Data Preparation\n",
    "##### Using the Support Vector Machine (SVM) algorithm to solve the problem of basic waste sorting at home\n",
    "In this classification article, I use data on 4 different types of waste: 'Hazardous waste', 'Organic waste', 'Other waste', and 'Recyclable waste'. You can get the data and code from my personal github."
   ]
  },
  {
   "cell_type": "code",
   "execution_count": 1,
   "metadata": {},
   "outputs": [],
   "source": [
    "import os\n",
    "import matplotlib.pyplot as plt\n",
    "import numpy as np\n",
    "import pandas as pd\n",
    "import shutil\n",
    "from sklearn.model_selection import train_test_split\n",
    "import os # quản lí hệ điều hành và tệp tin"
   ]
  },
  {
   "cell_type": "code",
   "execution_count": null,
   "metadata": {},
   "outputs": [
    {
     "name": "stdout",
     "output_type": "stream",
     "text": [
      "['Hazardous waste', 'Organic waste', 'Other waste', 'Recyclable waste']\n",
      "[1011, 997, 941, 16874]\n"
     ]
    }
   ],
   "source": [
    "dataDir = 'DATA_clean'\n",
    "def statistic(dataDir):\n",
    "    label = []\n",
    "    num_images = []\n",
    "    for lab in os.listdir(dataDir):\n",
    "        label.append(lab)\n",
    "        files=os.listdir(os.path.join(dataDir, lab))\n",
    "        c=len(files)\n",
    "        num_images.append(c)\n",
    "    return label, num_images\n",
    "labels, num_images = statistic(dataDir)\n",
    "print(labels)\n",
    "print(num_images)\n"
   ]
  },
  {
   "cell_type": "markdown",
   "metadata": {},
   "source": [
    "## Visualization data\n",
    "Tập dữ liệu mà tôi sử dụng gồm 4 class, số lượng samples của mỗi class là khác nhau."
   ]
  },
  {
   "cell_type": "code",
   "execution_count": 3,
   "metadata": {},
   "outputs": [
    {
     "data": {
      "image/png": "[encoded data removed]",
      "text/plain": [
       "<Figure size 640x480 with 1 Axes>"
      ]
     },
     "metadata": {},
     "output_type": "display_data"
    }
   ],
   "source": [
    "y_pos = np.arange(len(labels))\n",
    "plt.barh(y_pos, num_images, align='center')\n",
    "plt.yticks(y_pos, labels)\n",
    "plt.show()"
   ]
  },
  {
   "cell_type": "markdown",
   "metadata": {},
   "source": [
    "## Split into train and test sets\n",
    "\n",
    "After the data statistics process, I will divide the data into 2 sets of Train and Test according to the familiar ratio of 80% for the train and 20% for the test. To divide the data into 2 sets, I define the following function:"
   ]
  },
  {
   "cell_type": "code",
   "execution_count": 56,
   "metadata": {},
   "outputs": [
    {
     "name": "stdout",
     "output_type": "stream",
     "text": [
      "Data split done!\n"
     ]
    }
   ],
   "source": [
    "output_dir = 'DATA_split'\n",
    "train_dir = os.path.join(output_dir, 'train')\n",
    "test_dir = os.path.join(output_dir, 'test')\n",
    "\n",
    "for class_name in os.listdir(dataDir):\n",
    "    class_path  = os.path.join(dataDir, class_name) \n",
    "    if  os.path.isdir(class_path): \n",
    "        files = [os.path.join(class_path, f) for f in os.listdir(class_path) if os.path.isfile(os.path.join(class_path, f))] \n",
    "\n",
    "        train_files, test_files = train_test_split(files, test_size=0.2, random_state=42)\n",
    "\n",
    "        train_class_dir = os.path.join(train_dir, class_name)\n",
    "        test_class_dir = os.path.join(test_dir, class_name)\n",
    "        os.makedirs(train_class_dir, exist_ok=True)\n",
    "        os.makedirs(test_class_dir, exist_ok=True)\n",
    "\n",
    "        for file in train_files:\n",
    "            shutil.copy(file, train_class_dir)\n",
    "        for file in test_files:\n",
    "            shutil.copy(file, test_class_dir)\n",
    "print('Data split done!')\n"
   ]
  }
 ],
 "metadata": {
  "kernelspec": {
   "display_name": "Python 3",
   "language": "python",
   "name": "python3"
  },
  "language_info": {
   "codemirror_mode": {
    "name": "ipython",
    "version": 3
   },
   "file_extension": ".py",
   "mimetype": "text/x-python",
   "name": "python",
   "nbconvert_exporter": "python",
   "pygments_lexer": "ipython3",
   "version": "3.13.0"
  }
 },
 "nbformat": 4,
 "nbformat_minor": 2
}
