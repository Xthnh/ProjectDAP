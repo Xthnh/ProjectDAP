{
 "cells": [
  {
   "cell_type": "markdown",
   "metadata": {},
   "source": [
    "### Image Processing\n"
   ]
  },
  {
   "cell_type": "code",
   "execution_count": null,
   "metadata": {},
   "outputs": [],
   "source": [
    "# nhớ download thư viện"
   ]
  },
  {
   "cell_type": "code",
   "execution_count": 1,
   "metadata": {},
   "outputs": [],
   "source": [
    "# Tạo thư mục mới để lưu ảnh đã xử lý\n",
    "import os # quản lí hệ điều hành và tệp tin\n",
    "from PIL import Image  # Thư viện xử lý ảnh ở nhiều định dạng khác nhau\n",
    "import numpy as np\n",
    "\n",
    "# Đường dẫn đến thư mục ảnh\n",
    "image_folder = \"battery\"\n",
    "\n",
    "processed_image_folder = \"processed_images_battery\"\n",
    "os.makedirs(processed_image_folder, exist_ok=True) # Tạo thư mục nếu chưa tồn tại\n",
    "\n",
    "for filename in os.listdir(image_folder): # Lấy tên file trong thư mục\n",
    "    if filename.endswith(\".jpg\") or filename.endswith(\".png\"):  # Lọc định dạng ảnh\n",
    "        image_path = os.path.join(image_folder, filename) # Tạo đường dẫn đến ảnh\n",
    "        \n",
    "        # Đọc và xử lý ảnh\n",
    "        image = Image.open(image_path).convert('RGB')  # Đọc ảnh và chuyển sang 3 kênh màu RGB\n",
    "        image_resized = image.resize((224, 224))  # Resize\n",
    "        image_array = np.array(image_resized) / 255.0  # Chuyển ảnh thnh mảng numpy và chuẩn hóa giá trị pixel về khoảng [0, 1] (pĩxel có giá trị từ 0 đến 255)\n",
    "        \n",
    "        # Lưu ảnh đã xử lý\n",
    "        processed_image_path = os.path.join(processed_image_folder, filename) # Tạo đường dẫn đến ảnh đã xử lý\n",
    "        image_resized.save(processed_image_path) # Lưu ảnh đã xử lý\n",
    "\n",
    "\n"
   ]
  }
 ],
 "metadata": {
  "kernelspec": {
   "display_name": "Python 3",
   "language": "python",
   "name": "python3"
  },
  "language_info": {
   "codemirror_mode": {
    "name": "ipython",
    "version": 3
   },
   "file_extension": ".py",
   "mimetype": "text/x-python",
   "name": "python",
   "nbconvert_exporter": "python",
   "pygments_lexer": "ipython3",
   "version": "3.13.0"
  }
 },
 "nbformat": 4,
 "nbformat_minor": 2
}
