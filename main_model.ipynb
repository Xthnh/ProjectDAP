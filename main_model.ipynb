{
 "cells": [
  {
   "cell_type": "markdown",
   "metadata": {},
   "source": [
    "## Feature extraction\n",
    "Local Binary Patterns (LBP) và Histogram of Oriented Gradients (HOG). LBP tạo ra các đặc trưng chủ yếu liên quan đến kết cấu và mô hình bề mặt, OG tạo ra các đặc trưng liên quan đến định hướng gradient, giúp mô tả các đặc trưng hình học và cấu trúc của đối tượng trong ảnh."
   ]
  },
  {
   "cell_type": "code",
   "execution_count": null,
   "metadata": {},
   "outputs": [],
   "source": [
    "\n",
    "# Đường dẫn dữ liệu\n",
    "data_dir = \"DATA_split\\\\train\"  # Thư mục chứa 4 loại rác\n",
    "\n",
    "# Các thông số LBP và HOG\n",
    "radius = 1  # Radius cho LBP\n",
    "n_points = 8 * radius  # Số điểm mẫu trong LBP\n",
    "orientations = 9  # Số hướng trong HOG\n",
    "pixels_per_cell = (8, 8)  # Kích thước ô trong HOG\n",
    "cells_per_block = (2, 2)  # Số ô trong block HOG\n",
    "\n",
    "# Hàm tính đặc trưng LBP, HOG, Độ sáng trung bình, phương sai và histogram màu\n",
    "def extract_features(image_path):\n",
    "    # Đọc ảnh\n",
    "    img = cv.imread(image_path)\n",
    "    # Chuyển ảnh sang grayscale\n",
    "    gray = cv.cvtColor(img, cv.COLOR_BGR2GRAY)\n",
    "    \n",
    "    # 1. LBP\n",
    "    lbp = local_binary_pattern(gray, n_points, radius, method='uniform')\n",
    "    lbp_hist, _ = np.histogram(lbp.ravel(), bins=np.arange(0, n_points + 3), range=(0, n_points + 2))\n",
    "    lbp_hist = lbp_hist.astype('float')\n",
    "    lbp_hist /= (lbp_hist.sum() + 1e-6)  # Chuẩn hóa\n",
    "    \n",
    "    # 2. HOG\n",
    "    fd, hog_image = hog(gray, orientations=orientations, pixels_per_cell=pixels_per_cell,\n",
    "                        cells_per_block=cells_per_block, visualize=True)\n",
    "    fd = fd / np.linalg.norm(fd)  # Chuẩn hóa HOG\n",
    "    \n",
    "    # 3. Độ sáng trung bình và phương sai\n",
    "    mean_intensity = np.mean(gray)\n",
    "    std_intensity = np.std(gray)\n",
    "    \n",
    "    # 4. Histogram màu (RGB)\n",
    "    hist_b = cv.calcHist([img], [0], None, [256], [0, 256])  # Kênh Blue\n",
    "    hist_g = cv.calcHist([img], [1], None, [256], [0, 256])  # Kênh Green\n",
    "    hist_r = cv.calcHist([img], [2], None, [256], [0, 256])  # Kênh Red\n",
    "    hist_b /= hist_b.sum()  # Chuẩn hóa\n",
    "    hist_g /= hist_g.sum()  # Chuẩn hóa\n",
    "    hist_r /= hist_r.sum()  # Chuẩn hóa\n",
    "    \n",
    "    # Kết hợp tất cả các đặc trưng\n",
    "    features = np.hstack([lbp_hist, fd, [mean_intensity, std_intensity], hist_b.flatten(), hist_g.flatten(), hist_r.flatten()])\n",
    "    return features\n",
    "\n",
    "# Lặp qua từng loại rác trong thư mục (4 thư mục con)\n",
    "features_list = []\n",
    "labels = []\n",
    "for class_name in os.listdir(data_dir):\n",
    "    class_path = os.path.join(data_dir, class_name)\n",
    "    if os.path.isdir(class_path):\n",
    "        # Lặp qua các file ảnh trong mỗi thư mục con (class)\n",
    "        for file in os.listdir(class_path):\n",
    "            file_path = os.path.join(class_path, file)\n",
    "            if os.path.isfile(file_path):\n",
    "                features = extract_features(file_path)\n",
    "                features_list.append(features)\n",
    "                labels.append(class_name)  # Nhãn của từng loại rác\n",
    "\n",
    "# Chuyển đổi thành mảng numpy\n",
    "features_array = np.array(features_list)\n",
    "labels_array = np.array(labels)\n",
    "\n"
   ]
  },
  {
   "cell_type": "code",
   "execution_count": null,
   "metadata": {},
   "outputs": [],
   "source": []
  }
 ],
 "metadata": {
  "kernelspec": {
   "display_name": "Python 3",
   "language": "python",
   "name": "python3"
  },
  "language_info": {
   "name": "python",
   "version": "3.13.0"
  }
 },
 "nbformat": 4,
 "nbformat_minor": 2
}
